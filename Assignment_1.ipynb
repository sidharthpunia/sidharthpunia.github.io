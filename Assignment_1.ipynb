{
  "nbformat": 4,
  "nbformat_minor": 0,
  "metadata": {
    "kernelspec": {
      "display_name": "Python 3",
      "language": "python",
      "name": "python3"
    },
    "language_info": {
      "codemirror_mode": {
        "name": "ipython",
        "version": 3
      },
      "file_extension": ".py",
      "mimetype": "text/x-python",
      "name": "python",
      "nbconvert_exporter": "python",
      "pygments_lexer": "ipython3",
      "version": "3.7.4"
    },
    "colab": {
      "name": "Assignment 1.ipynb",
      "provenance": [],
      "toc_visible": true,
      "include_colab_link": true
    }
  },
  "cells": [
    {
      "cell_type": "markdown",
      "metadata": {
        "id": "view-in-github",
        "colab_type": "text"
      },
      "source": [
        "<a href=\"https://colab.research.google.com/github/sidharthkumar10500/sidharthkumar10500.github.io/blob/master/Assignment_1.ipynb\" target=\"_parent\"><img src=\"https://colab.research.google.com/assets/colab-badge.svg\" alt=\"Open In Colab\"/></a>"
      ]
    },
    {
      "cell_type": "markdown",
      "metadata": {
        "id": "Bi8vvzPsFrp4",
        "colab_type": "text"
      },
      "source": [
        "# <p style=\"text-align: center;\">EE 380L: Data Mining</p>\n",
        "# <p style=\"text-align: center;\">Assignment 1</p>\n",
        "## <p style=\"text-align: center;\">Total points: 100</p>\n",
        "## <p style=\"text-align: center;\">Due: Tuesday, February 19 submitted via Canvas by 11:59 pm</p>\n",
        "\n",
        "Your homework should be written in a **Jupyter notebook**.   \n",
        "\n",
        "Also, please make sure your code runs and the graphics (and anything else) are displayed in your notebook before submitting. (%matplotlib inline)\n",
        "\n",
        "**Note: Notebooks MUST have the images embedded in them. There will be no regrades if attached images do not render in the notebook. Please re download from canvas after submission and make sure all attached images render without errors. (Hint: Image module from IPython.display)**"
      ]
    },
    {
      "cell_type": "code",
      "metadata": {
        "id": "jTp1mFxPFrp6",
        "colab_type": "code",
        "outputId": "6fa34f37-52e9-4fdf-edcb-5242bd572277",
        "colab": {}
      },
      "source": [
        "print('Hello World!')\n"
      ],
      "execution_count": 0,
      "outputs": [
        {
          "output_type": "stream",
          "text": [
            "Hello World!\n"
          ],
          "name": "stdout"
        }
      ]
    },
    {
      "cell_type": "markdown",
      "metadata": {
        "id": "j-4Q-sntFrp_",
        "colab_type": "text"
      },
      "source": [
        "In this assignment, we will be exploring 4 main problems and a subjective question. \n",
        "1. Data exploration and visualization (20 points)\n",
        "2. Data pre-processing (25 points)\n",
        "3. Feature extraction (20 points)\n",
        "4. A problem on k-NN (25 points)\n",
        "5. ML lifecycle (10 points)\n",
        "\n",
        "For each of the main problem, you would be generating images to understand the embedded pattern in data and visualise how a classifier would make decisions based on that data. "
      ]
    },
    {
      "cell_type": "markdown",
      "metadata": {
        "id": "BuVDMNg-FrqA",
        "colab_type": "text"
      },
      "source": [
        "The starter code to load the wine quality dataset is given to you. All the packages you would need for this assignment are provided below and please refrain from using any other packages. If you find it necessary to use other packages, please post a question on Piazza or contact the TA. "
      ]
    },
    {
      "cell_type": "code",
      "metadata": {
        "id": "y3vAHqkeFrqB",
        "colab_type": "code",
        "colab": {}
      },
      "source": [
        "import pandas as pd\n",
        "import matplotlib.pyplot as plt\n",
        "import numpy as np\n",
        "import seaborn as sns\n",
        "from sklearn.model_selection import train_test_split\n",
        "from sklearn import neighbors, datasets\n",
        "from matplotlib.colors import ListedColormap\n",
        "from sklearn.preprocessing import StandardScaler\n",
        "from sklearn import metrics\n",
        "!pip install soundfile\n",
        "import soundfile as sf \n",
        "\n",
        "\n",
        "from google.colab import files\n",
        "uploaded = files.upload()\n",
        "\n",
        "tdf_red = pd.read_csv(\"winequality-red.csv\", sep=';')\n",
        "df_white = pd.read_csv(\"winequality-white.csv\", sep=';')"
      ],
      "execution_count": 0,
      "outputs": []
    },
    {
      "cell_type": "markdown",
      "metadata": {
        "id": "WHn94Mp3FrqE",
        "colab_type": "text"
      },
      "source": [
        "# 1.1. Plot the histogram of the quality score for:\n",
        "\n",
        "1.1.a. red wine\n",
        "\n",
        "1.1.b. white wine \n",
        "\n",
        "1.1.c. Identify the total number of samples in each dataset. \n",
        "\n",
        "1.1.d. Plot the histogram of both the 'quality' data in the same graph. \n",
        "\n",
        "1.1.e. Plot the histogram of both the 'quality' data in the same graph after normalization. From the plot, determine the wine that is better in quality and explain. "
      ]
    },
    {
      "cell_type": "code",
      "metadata": {
        "id": "RcjLWPdJRkd3",
        "colab_type": "code",
        "outputId": "1868ab81-a6bb-4790-ee0b-6d0c1b643f37",
        "colab": {
          "base_uri": "https://localhost:8080/",
          "height": 282
        }
      },
      "source": [
        "#tdf_red.head\n",
        "tdf_red.plot.hist(bins=20)\n",
        "#df_white.plot.hist()\n",
        "#for col in tdf_red.columns: #for printing the name of different columns\n",
        "#    print(col)"
      ],
      "execution_count": 0,
      "outputs": [
        {
          "output_type": "execute_result",
          "data": {
            "text/plain": [
              "<matplotlib.axes._subplots.AxesSubplot at 0x7f476b5164e0>"
            ]
          },
          "metadata": {
            "tags": []
          },
          "execution_count": 28
        },
        {
          "output_type": "display_data",
          "data": {
            "image/png": "[encoded data removed]",
            "text/plain": [
              "<Figure size 432x288 with 1 Axes>"
            ]
          },
          "metadata": {
            "tags": []
          }
        }
      ]
    },
    {
      "cell_type": "markdown",
      "metadata": {
        "id": "wCs8PBZHFrqG",
        "colab_type": "text"
      },
      "source": [
        "# 1.2. In this part, we will determine the correlation between quality and features. This exercise will help in feature selection in the event of limited data availability. \n",
        "Do this separately for red and white wine. \n",
        "\n",
        "1.2.a. The resulting correlation plot should be (12x12) matrix. \n",
        "\n",
        "1.2.b. You will notice that the diagonal elements would always correlate with a score of 1. Explain the reason. \n",
        "\n",
        "1.2.c. List the top 5 features with maximum correlation for quality. \n",
        "\n",
        "1.2.d. List two features for each data with positive and negative correlation. \n"
      ]
    },
    {
      "cell_type": "markdown",
      "metadata": {
        "id": "1RncdyonFrqH",
        "colab_type": "text"
      },
      "source": [
        "# 1.3. Plot the scatter plot for 'features vs. quality' for red and white wine.\n",
        "1.3.a. Plot 11 figures with 'each feature vs. quality' for red and white wine. \n",
        "\n",
        "1.3.b. For the top two features with positive correlation from the 1.2, do you observe a similar trend in the scatter plot? \n",
        "\n",
        "1.3.c. For the top two negatively correlated features from 1.2, do you observe a similar trend in the scatter plot?\n",
        "If not, why is there a disparity based on the figures? "
      ]
    },
    {
      "cell_type": "markdown",
      "metadata": {
        "id": "-lfqPD0kFrqI",
        "colab_type": "text"
      },
      "source": [
        "# 1.4. Plot the box plot to identify the total number of outlier for top two positive and negatively correlated features \n",
        "1.4.a. For red wine data (4 box plots)\n",
        "\n",
        "1.4.b. For white wine data (4 box plots)"
      ]
    },
    {
      "cell_type": "markdown",
      "metadata": {
        "id": "k0Af3t-yFrqJ",
        "colab_type": "text"
      },
      "source": [
        "# 2. In this question we will explore data pre-processing: missing values, normalization\n",
        "2.1.a. Write the code to replace outliers of each feature with NaN. (2 sigma deviation can be used) \n",
        "\n",
        "2.1.b. write the code to replace the missing values with mean, median, forward and backward values. Save these as separate dataframes since we would use them again in the last question. \n",
        "\n",
        "2.1.c. What is data normalization and how did normalization help in identifying the white wine vs. red wine quality from 1.1.e?"
      ]
    },
    {
      "cell_type": "markdown",
      "metadata": {
        "id": "PS_t4Oo_FrqK",
        "colab_type": "text"
      },
      "source": [
        "# 3. Feature extraction: \n",
        "In this question, we will take a quick detour to extract spectrogram features from two audio files. \n",
        "The started code to load the audio data is provided in this exercise. \n",
        "\n",
        "3.1.a. Plot the time vs. amplitude plot of the audio signal. \n",
        "\n",
        "3.1.b. Plot the spectrogram for both the audio files. \n",
        "\n",
        "3.1.c. Explain the algorithm used to extract the spectrogram. What does the information on the spectogram signify? \n"
      ]
    },
    {
      "cell_type": "code",
      "metadata": {
        "id": "5dq2Rb8UFrqL",
        "colab_type": "code",
        "colab": {}
      },
      "source": [
        "\n",
        "data1, samplerate1 = sf.read(\"61-70968-0006.flac\") \n",
        "data2, samplerate2 = sf.read(\"61-70968-0002.flac\")"
      ],
      "execution_count": 0,
      "outputs": []
    },
    {
      "cell_type": "markdown",
      "metadata": {
        "id": "FEo91LQvFrqO",
        "colab_type": "text"
      },
      "source": [
        "# 4. Going back to the wine dataset, we will convert the quality index to categories corresponding to ['low, 'medium', 'high'] and create a k-NN classifier to classify the wine dataset into one of these categories based on features. \n",
        "4.1.a. Write the code to convert rating between 0 to 3.5 as low, 3.5 to 7 as medium and 7 to 10 as high. \n",
        "\n",
        "4.1.b. Identify the total number of samples for each class and randomly select the same number of samples from the other classes (That is, if there are 65 samples of 'high' quality, randomly pick 65 samples from 'medium' and 65 samples from 'low' and use that to split into train and test)\n",
        "\n",
        "4.1.c. create a k-NN classifier and report the accuracy using the data from 2.1.b. Report the accuracy in each case.  \n",
        "\n",
        "4.1.d. create a k-NN classifier, preprocess the input feature using standard scalar to normalize and report the accuracy using the data from 2.1.b. Do you see a difference in accuracy? If yes, explain the reason. \n",
        "\n",
        "4.1.e. For a k-NN classifier with the above data, report the accuracy. Plot the prediciton along with the decision boundaries. (Hint: You cannot use all the features and you would have to pick 2 features. Explain the reason behind the choice of those features) "
      ]
    },
    {
      "cell_type": "markdown",
      "metadata": {
        "id": "Eeyx7tqbFrqQ",
        "colab_type": "text"
      },
      "source": [
        "# 5. ML lifecycle\n",
        "During different stages of an ML lifecycle, there is always a fine balance between revisiting feature extraction and model parameter determination based on model verification. From the exercise above, briefly explain why feature extraction and feature selection is important for model performance.\n",
        "How is model complexity increased for a k-NN and how would that affect the model verification step?"
      ]
    },
    {
      "cell_type": "code",
      "metadata": {
        "id": "ZiImLMKGFrqQ",
        "colab_type": "code",
        "colab": {}
      },
      "source": [
        ""
      ],
      "execution_count": 0,
      "outputs": []
    }
  ]
}